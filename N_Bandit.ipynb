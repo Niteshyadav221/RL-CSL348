{
  "nbformat": 4,
  "nbformat_minor": 0,
  "metadata": {
    "colab": {
      "provenance": [],
      "authorship_tag": "ABX9TyP+V6yA4JjwTva3LGqNYxh9",
      "include_colab_link": true
    },
    "kernelspec": {
      "name": "python3",
      "display_name": "Python 3"
    },
    "language_info": {
      "name": "python"
    }
  },
  "cells": [
    {
      "cell_type": "markdown",
      "metadata": {
        "id": "view-in-github",
        "colab_type": "text"
      },
      "source": [
        "<a href=\"https://colab.research.google.com/github/Niteshyadav221/RL-CSL348/blob/main/N_Bandit.ipynb\" target=\"_parent\"><img src=\"https://colab.research.google.com/assets/colab-badge.svg\" alt=\"Open In Colab\"/></a>"
      ]
    },
    {
      "cell_type": "code",
      "execution_count": 1,
      "metadata": {
        "colab": {
          "base_uri": "https://localhost:8080/"
        },
        "id": "YIx72z2r3x8i",
        "outputId": "c6d0beeb-34bc-48d0-8760-f05e41fd3e93"
      },
      "outputs": [
        {
          "output_type": "stream",
          "name": "stdout",
          "text": [
            "Cumulative Reward: 5498\n",
            "Machine a - Average Reward: 3.941830172072019\n",
            "Machine b - Average Reward: 4.757760595937838\n",
            "Machine c - Average Reward: 5.370441957708607\n",
            "Machine d - Average Reward: 3.331094837677316\n",
            "Machine e - Average Reward: 4.254736388117008\n"
          ]
        }
      ],
      "source": [
        "import random\n",
        "\n",
        "# Number of slot machines\n",
        "num_machines = 5\n",
        "\n",
        "# Number of trials\n",
        "num_trials = 1000\n",
        "\n",
        "# Initialize the slot machines with random reward distributions (numbers between 1 and 10)\n",
        "machines = [[random.randint(1, 10) for _ in range(num_trials)] for _ in range(num_machines)]\n",
        "\n",
        "# Initialize variables to keep track of cumulative reward and average reward for each machine\n",
        "cumulative_reward = 0\n",
        "average_rewards = [0] * num_machines\n",
        "\n",
        "# Simulate the trials\n",
        "for trial in range(num_trials):\n",
        "    # Choose a machine at random (exploration)\n",
        "    selected_machine = random.randint(0, num_machines - 1)\n",
        "\n",
        "    # Get the reward for the selected machine for this trial\n",
        "    reward = machines[selected_machine][trial]\n",
        "\n",
        "    # Update cumulative reward\n",
        "    cumulative_reward += reward\n",
        "\n",
        "    # Update average reward for the selected machine\n",
        "    average_rewards[selected_machine] = (average_rewards[selected_machine] * trial + reward) / (trial + 1)\n",
        "\n",
        "# Print cumulative reward\n",
        "print(f\"Cumulative Reward: {cumulative_reward}\")\n",
        "\n",
        "# Print average reward for each machine\n",
        "for i, avg_reward in enumerate(average_rewards):\n",
        "    print(f\"Machine {chr(97 + i)} - Average Reward: {avg_reward}\")\n"
      ]
    }
  ]
}